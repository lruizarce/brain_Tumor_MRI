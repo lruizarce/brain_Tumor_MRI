{
 "cells": [
  {
   "cell_type": "code",
   "execution_count": 1,
   "metadata": {},
   "outputs": [],
   "source": [
    "import os\n",
    "import pandas as pd\n",
    "import numpy as np\n",
    "import matplotlib.pyplot as plt\n",
    "import seaborn as sns"
   ]
  },
  {
   "cell_type": "code",
   "execution_count": 8,
   "metadata": {},
   "outputs": [],
   "source": [
    "def get_class_paths(path):\n",
    "    classes = []  # List to store class labels\n",
    "    class_paths = []  # List to store paths to images\n",
    "    \n",
    "    # Iterate over each label in the given directory\n",
    "    for label in os.listdir(path):\n",
    "        label_path = os.path.join(path, label)  # Construct the full path to the label directory\n",
    "        \n",
    "        if os.path.isdir(label_path):  # Check if the path is a directory\n",
    "            # Iterate over each image in the label directory\n",
    "            for img in os.listdir(label_path):\n",
    "                img_path = os.path.join(label_path, img)  # Construct the full path to the image\n",
    "                \n",
    "                classes.append(label)  # Append the label to the classes list\n",
    "                class_paths.append(img_path)  # Append the image path to the class_paths list\n",
    "    \n",
    "    # Create a DataFrame with the collected class paths and labels\n",
    "    df = pd.DataFrame({\n",
    "        'Class Path': class_paths,\n",
    "        'Class': classes\n",
    "    })\n",
    "    return df  # Return the DataFrame"
   ]
  },
  {
   "cell_type": "code",
   "execution_count": 10,
   "metadata": {},
   "outputs": [
    {
     "data": {
      "text/html": [
       "<div>\n",
       "<style scoped>\n",
       "    .dataframe tbody tr th:only-of-type {\n",
       "        vertical-align: middle;\n",
       "    }\n",
       "\n",
       "    .dataframe tbody tr th {\n",
       "        vertical-align: top;\n",
       "    }\n",
       "\n",
       "    .dataframe thead th {\n",
       "        text-align: right;\n",
       "    }\n",
       "</style>\n",
       "<table border=\"1\" class=\"dataframe\">\n",
       "  <thead>\n",
       "    <tr style=\"text-align: right;\">\n",
       "      <th></th>\n",
       "      <th>Class Path</th>\n",
       "      <th>Class</th>\n",
       "    </tr>\n",
       "  </thead>\n",
       "  <tbody>\n",
       "    <tr>\n",
       "      <th>0</th>\n",
       "      <td>../data/Training\\glioma\\Tr-glTr_0000.jpg</td>\n",
       "      <td>glioma</td>\n",
       "    </tr>\n",
       "    <tr>\n",
       "      <th>1</th>\n",
       "      <td>../data/Training\\glioma\\Tr-glTr_0001.jpg</td>\n",
       "      <td>glioma</td>\n",
       "    </tr>\n",
       "    <tr>\n",
       "      <th>2</th>\n",
       "      <td>../data/Training\\glioma\\Tr-glTr_0002.jpg</td>\n",
       "      <td>glioma</td>\n",
       "    </tr>\n",
       "    <tr>\n",
       "      <th>3</th>\n",
       "      <td>../data/Training\\glioma\\Tr-glTr_0003.jpg</td>\n",
       "      <td>glioma</td>\n",
       "    </tr>\n",
       "    <tr>\n",
       "      <th>4</th>\n",
       "      <td>../data/Training\\glioma\\Tr-glTr_0004.jpg</td>\n",
       "      <td>glioma</td>\n",
       "    </tr>\n",
       "    <tr>\n",
       "      <th>...</th>\n",
       "      <td>...</td>\n",
       "      <td>...</td>\n",
       "    </tr>\n",
       "    <tr>\n",
       "      <th>5707</th>\n",
       "      <td>../data/Training\\pituitary\\Tr-pi_1452.jpg</td>\n",
       "      <td>pituitary</td>\n",
       "    </tr>\n",
       "    <tr>\n",
       "      <th>5708</th>\n",
       "      <td>../data/Training\\pituitary\\Tr-pi_1453.jpg</td>\n",
       "      <td>pituitary</td>\n",
       "    </tr>\n",
       "    <tr>\n",
       "      <th>5709</th>\n",
       "      <td>../data/Training\\pituitary\\Tr-pi_1454.jpg</td>\n",
       "      <td>pituitary</td>\n",
       "    </tr>\n",
       "    <tr>\n",
       "      <th>5710</th>\n",
       "      <td>../data/Training\\pituitary\\Tr-pi_1455.jpg</td>\n",
       "      <td>pituitary</td>\n",
       "    </tr>\n",
       "    <tr>\n",
       "      <th>5711</th>\n",
       "      <td>../data/Training\\pituitary\\Tr-pi_1456.jpg</td>\n",
       "      <td>pituitary</td>\n",
       "    </tr>\n",
       "  </tbody>\n",
       "</table>\n",
       "<p>5712 rows × 2 columns</p>\n",
       "</div>"
      ],
      "text/plain": [
       "                                     Class Path      Class\n",
       "0      ../data/Training\\glioma\\Tr-glTr_0000.jpg     glioma\n",
       "1      ../data/Training\\glioma\\Tr-glTr_0001.jpg     glioma\n",
       "2      ../data/Training\\glioma\\Tr-glTr_0002.jpg     glioma\n",
       "3      ../data/Training\\glioma\\Tr-glTr_0003.jpg     glioma\n",
       "4      ../data/Training\\glioma\\Tr-glTr_0004.jpg     glioma\n",
       "...                                         ...        ...\n",
       "5707  ../data/Training\\pituitary\\Tr-pi_1452.jpg  pituitary\n",
       "5708  ../data/Training\\pituitary\\Tr-pi_1453.jpg  pituitary\n",
       "5709  ../data/Training\\pituitary\\Tr-pi_1454.jpg  pituitary\n",
       "5710  ../data/Training\\pituitary\\Tr-pi_1455.jpg  pituitary\n",
       "5711  ../data/Training\\pituitary\\Tr-pi_1456.jpg  pituitary\n",
       "\n",
       "[5712 rows x 2 columns]"
      ]
     },
     "execution_count": 10,
     "metadata": {},
     "output_type": "execute_result"
    }
   ],
   "source": [
    "tr_df = get_class_paths('../data/Training')\n",
    "tr_df"
   ]
  },
  {
   "cell_type": "code",
   "execution_count": 11,
   "metadata": {},
   "outputs": [
    {
     "data": {
      "text/html": [
       "<div>\n",
       "<style scoped>\n",
       "    .dataframe tbody tr th:only-of-type {\n",
       "        vertical-align: middle;\n",
       "    }\n",
       "\n",
       "    .dataframe tbody tr th {\n",
       "        vertical-align: top;\n",
       "    }\n",
       "\n",
       "    .dataframe thead th {\n",
       "        text-align: right;\n",
       "    }\n",
       "</style>\n",
       "<table border=\"1\" class=\"dataframe\">\n",
       "  <thead>\n",
       "    <tr style=\"text-align: right;\">\n",
       "      <th></th>\n",
       "      <th>Class Path</th>\n",
       "      <th>Class</th>\n",
       "    </tr>\n",
       "  </thead>\n",
       "  <tbody>\n",
       "    <tr>\n",
       "      <th>0</th>\n",
       "      <td>../data/Testing\\glioma\\Te-glTr_0000.jpg</td>\n",
       "      <td>glioma</td>\n",
       "    </tr>\n",
       "    <tr>\n",
       "      <th>1</th>\n",
       "      <td>../data/Testing\\glioma\\Te-glTr_0001.jpg</td>\n",
       "      <td>glioma</td>\n",
       "    </tr>\n",
       "    <tr>\n",
       "      <th>2</th>\n",
       "      <td>../data/Testing\\glioma\\Te-glTr_0002.jpg</td>\n",
       "      <td>glioma</td>\n",
       "    </tr>\n",
       "    <tr>\n",
       "      <th>3</th>\n",
       "      <td>../data/Testing\\glioma\\Te-glTr_0003.jpg</td>\n",
       "      <td>glioma</td>\n",
       "    </tr>\n",
       "    <tr>\n",
       "      <th>4</th>\n",
       "      <td>../data/Testing\\glioma\\Te-glTr_0004.jpg</td>\n",
       "      <td>glioma</td>\n",
       "    </tr>\n",
       "    <tr>\n",
       "      <th>...</th>\n",
       "      <td>...</td>\n",
       "      <td>...</td>\n",
       "    </tr>\n",
       "    <tr>\n",
       "      <th>1306</th>\n",
       "      <td>../data/Testing\\pituitary\\Te-pi_0295.jpg</td>\n",
       "      <td>pituitary</td>\n",
       "    </tr>\n",
       "    <tr>\n",
       "      <th>1307</th>\n",
       "      <td>../data/Testing\\pituitary\\Te-pi_0296.jpg</td>\n",
       "      <td>pituitary</td>\n",
       "    </tr>\n",
       "    <tr>\n",
       "      <th>1308</th>\n",
       "      <td>../data/Testing\\pituitary\\Te-pi_0297.jpg</td>\n",
       "      <td>pituitary</td>\n",
       "    </tr>\n",
       "    <tr>\n",
       "      <th>1309</th>\n",
       "      <td>../data/Testing\\pituitary\\Te-pi_0298.jpg</td>\n",
       "      <td>pituitary</td>\n",
       "    </tr>\n",
       "    <tr>\n",
       "      <th>1310</th>\n",
       "      <td>../data/Testing\\pituitary\\Te-pi_0299.jpg</td>\n",
       "      <td>pituitary</td>\n",
       "    </tr>\n",
       "  </tbody>\n",
       "</table>\n",
       "<p>1311 rows × 2 columns</p>\n",
       "</div>"
      ],
      "text/plain": [
       "                                    Class Path      Class\n",
       "0      ../data/Testing\\glioma\\Te-glTr_0000.jpg     glioma\n",
       "1      ../data/Testing\\glioma\\Te-glTr_0001.jpg     glioma\n",
       "2      ../data/Testing\\glioma\\Te-glTr_0002.jpg     glioma\n",
       "3      ../data/Testing\\glioma\\Te-glTr_0003.jpg     glioma\n",
       "4      ../data/Testing\\glioma\\Te-glTr_0004.jpg     glioma\n",
       "...                                        ...        ...\n",
       "1306  ../data/Testing\\pituitary\\Te-pi_0295.jpg  pituitary\n",
       "1307  ../data/Testing\\pituitary\\Te-pi_0296.jpg  pituitary\n",
       "1308  ../data/Testing\\pituitary\\Te-pi_0297.jpg  pituitary\n",
       "1309  ../data/Testing\\pituitary\\Te-pi_0298.jpg  pituitary\n",
       "1310  ../data/Testing\\pituitary\\Te-pi_0299.jpg  pituitary\n",
       "\n",
       "[1311 rows x 2 columns]"
      ]
     },
     "execution_count": 11,
     "metadata": {},
     "output_type": "execute_result"
    }
   ],
   "source": [
    "ts_df = get_class_paths('../data/Testing')\n",
    "ts_df"
   ]
  },
  {
   "cell_type": "code",
   "execution_count": 12,
   "metadata": {},
   "outputs": [
    {
     "data": {
      "image/png": "[encoded data removed]",
      "text/plain": [
       "<Figure size 1500x700 with 1 Axes>"
      ]
     },
     "metadata": {},
     "output_type": "display_data"
    }
   ],
   "source": [
    "plt.figure(figsize=(15, 7))\n",
    "ax = sns.countplot(tr_df, x=tr_df['Class'])"
   ]
  },
  {
   "cell_type": "code",
   "execution_count": 13,
   "metadata": {},
   "outputs": [
    {
     "data": {
      "image/png": "[encoded data removed]",
      "text/plain": [
       "<Figure size 1500x700 with 1 Axes>"
      ]
     },
     "metadata": {},
     "output_type": "display_data"
    }
   ],
   "source": [
    "plt.figure(figsize=(15, 7))\n",
    "ax = sns.countplot(ts_df, x=ts_df['Class'])"
   ]
  },
  {
   "cell_type": "code",
   "execution_count": 5,
   "metadata": {},
   "outputs": [],
   "source": [
    "from sklearn.model_selection import train_test_split\n",
    "from sklearn.metrics import classification_report, confusion_matrix\n",
    "import torch\n",
    "\n"
   ]
  },
  {
   "cell_type": "code",
   "execution_count": 6,
   "metadata": {},
   "outputs": [
    {
     "data": {
      "text/plain": [
       "False"
      ]
     },
     "execution_count": 6,
     "metadata": {},
     "output_type": "execute_result"
    }
   ],
   "source": [
    "torch.cuda.is_available()"
   ]
  },
  {
   "cell_type": "code",
   "execution_count": null,
   "metadata": {},
   "outputs": [],
   "source": []
  }
 ],
 "metadata": {
  "kernelspec": {
   "display_name": "base",
   "language": "python",
   "name": "python3"
  },
  "language_info": {
   "codemirror_mode": {
    "name": "ipython",
    "version": 3
   },
   "file_extension": ".py",
   "mimetype": "text/x-python",
   "name": "python",
   "nbconvert_exporter": "python",
   "pygments_lexer": "ipython3",
   "version": "3.10.14"
  }
 },
 "nbformat": 4,
 "nbformat_minor": 2
}
